{
 "cells": [
  {
   "cell_type": "code",
   "execution_count": 1,
   "metadata": {},
   "outputs": [],
   "source": [
    "# Globals\n",
    "input_text = \"../../Document/CBI/2021-06/scRNAseq/bbrowser_databases.txt\""
   ]
  },
  {
   "cell_type": "code",
   "execution_count": 23,
   "metadata": {},
   "outputs": [],
   "source": [
    "# Get input and create tabularized sample information\n",
    "block = []\n",
    "ix_from_auth = 0\n",
    "project_cnt = 0\n",
    "\n",
    "output_table = input_text[:-4] + '_table.txt'\n",
    "\n",
    "with open(output_table, 'w') as out_table:\n",
    "    for ix, line in enumerate(open(input_text, 'r')):\n",
    "        ix_from_auth += 1\n",
    "        sline = line.strip()\n",
    "        block.append(sline)\n",
    "        if '[]' in line:\n",
    "            authors = sline\n",
    "            title = block[-2] # previous sline\n",
    "            block = [title, authors] # renew\n",
    "            ix_from_auth = 0\n",
    "        if ix_from_auth == 9:\n",
    "            project_cnt += 1\n",
    "            abstract = block[2]\n",
    "            score = block[4]\n",
    "            gse = block[5]\n",
    "            species = block[6]\n",
    "            cell_cnt = block[7]\n",
    "            study_size = block[8]\n",
    "            source_type = block[9]\n",
    "            data_type = block[10]\n",
    "\n",
    "            out_list = [title, authors, abstract, score, gse, species, \n",
    "                        cell_cnt, study_size, source_type, data_type]\n",
    "            out_line = '\\t'.join(out_list) + '\\n'\n",
    "            out_table.write(out_line)\n",
    "            #print(title, authors, abstract, gse, cell_cnt, source_type, data_type)"
   ]
  },
  {
   "cell_type": "code",
   "execution_count": 18,
   "metadata": {},
   "outputs": [
    {
     "data": {
      "text/plain": [
       "'Read count'"
      ]
     },
     "execution_count": 18,
     "metadata": {},
     "output_type": "execute_result"
    }
   ],
   "source": [
    "block[10]"
   ]
  },
  {
   "cell_type": "code",
   "execution_count": 16,
   "metadata": {},
   "outputs": [
    {
     "data": {
      "text/plain": [
       "'12MB'"
      ]
     },
     "execution_count": 16,
     "metadata": {},
     "output_type": "execute_result"
    }
   ],
   "source": []
  }
 ],
 "metadata": {
  "kernelspec": {
   "display_name": "Python 3",
   "language": "python",
   "name": "python3"
  },
  "language_info": {
   "codemirror_mode": {
    "name": "ipython",
    "version": 3
   },
   "file_extension": ".py",
   "mimetype": "text/x-python",
   "name": "python",
   "nbconvert_exporter": "python",
   "pygments_lexer": "ipython3",
   "version": "3.5.2"
  }
 },
 "nbformat": 4,
 "nbformat_minor": 2
}
